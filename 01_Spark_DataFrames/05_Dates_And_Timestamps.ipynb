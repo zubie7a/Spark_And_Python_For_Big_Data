{
 "cells": [
  {
   "cell_type": "code",
   "execution_count": 1,
   "metadata": {},
   "outputs": [],
   "source": [
    "# Spark Imports\n",
    "from pyspark.sql import SparkSession\n",
    "import pyspark.sql.functions as f"
   ]
  },
  {
   "cell_type": "code",
   "execution_count": 2,
   "metadata": {},
   "outputs": [],
   "source": [
    "# Dates and Timestamps specific functions (or could use with f.*)\n",
    "from pyspark.sql.functions import (dayofmonth, hour, dayofyear,\n",
    "                                   month, year, weekofyear,\n",
    "                                   format_number, date_format)"
   ]
  },
  {
   "cell_type": "code",
   "execution_count": 3,
   "metadata": {},
   "outputs": [],
   "source": [
    "# Start the Spark session.\n",
    "spark = SparkSession.builder.appName('dates').getOrCreate()"
   ]
  },
  {
   "cell_type": "code",
   "execution_count": 4,
   "metadata": {},
   "outputs": [],
   "source": [
    "# We can infer the schema/types (only in CSV), and header tells us\n",
    "# that the first row are the names of the columns.\n",
    "df = spark.read.csv('Data/appl_stock.csv', \n",
    "                    header=True, inferSchema=True)"
   ]
  },
  {
   "cell_type": "code",
   "execution_count": 5,
   "metadata": {},
   "outputs": [
    {
     "data": {
      "text/plain": [
       "Row(Date=datetime.datetime(2010, 1, 4, 0, 0), Open=213.429998, High=214.499996, Low=212.38000099999996, Close=214.009998, Volume=123432400, Adj Close=27.727039)"
      ]
     },
     "execution_count": 5,
     "metadata": {},
     "output_type": "execute_result"
    }
   ],
   "source": [
    "# Remember .head() will always return an array.\n",
    "row = df.head(1)[0]\n",
    "row"
   ]
  },
  {
   "cell_type": "code",
   "execution_count": 6,
   "metadata": {},
   "outputs": [
    {
     "name": "stdout",
     "output_type": "stream",
     "text": [
      "+-------------------+------------------+\n",
      "|               Date|              Open|\n",
      "+-------------------+------------------+\n",
      "|2010-01-04 00:00:00|        213.429998|\n",
      "|2010-01-05 00:00:00|        214.599998|\n",
      "|2010-01-06 00:00:00|        214.379993|\n",
      "|2010-01-07 00:00:00|            211.75|\n",
      "|2010-01-08 00:00:00|        210.299994|\n",
      "|2010-01-11 00:00:00|212.79999700000002|\n",
      "|2010-01-12 00:00:00|209.18999499999998|\n",
      "|2010-01-13 00:00:00|        207.870005|\n",
      "|2010-01-14 00:00:00|210.11000299999998|\n",
      "|2010-01-15 00:00:00|210.92999500000002|\n",
      "|2010-01-19 00:00:00|        208.330002|\n",
      "|2010-01-20 00:00:00|        214.910006|\n",
      "|2010-01-21 00:00:00|        212.079994|\n",
      "|2010-01-22 00:00:00|206.78000600000001|\n",
      "|2010-01-25 00:00:00|202.51000200000001|\n",
      "|2010-01-26 00:00:00|205.95000100000001|\n",
      "|2010-01-27 00:00:00|        206.849995|\n",
      "|2010-01-28 00:00:00|        204.930004|\n",
      "|2010-01-29 00:00:00|        201.079996|\n",
      "|2010-02-01 00:00:00|192.36999699999998|\n",
      "+-------------------+------------------+\n",
      "only showing top 20 rows\n",
      "\n"
     ]
    }
   ],
   "source": [
    "df.select(['Date', 'Open']).show()"
   ]
  },
  {
   "cell_type": "code",
   "execution_count": 7,
   "metadata": {},
   "outputs": [
    {
     "name": "stdout",
     "output_type": "stream",
     "text": [
      "+---------------+\n",
      "|dayofyear(Date)|\n",
      "+---------------+\n",
      "|             32|\n",
      "|             60|\n",
      "|             91|\n",
      "|            152|\n",
      "|            182|\n",
      "|            244|\n",
      "|            274|\n",
      "|            305|\n",
      "|            335|\n",
      "|             32|\n",
      "|             60|\n",
      "|             91|\n",
      "|            152|\n",
      "|            182|\n",
      "|            213|\n",
      "|            244|\n",
      "|            305|\n",
      "|            335|\n",
      "|             32|\n",
      "|             61|\n",
      "+---------------+\n",
      "only showing top 20 rows\n",
      "\n"
     ]
    }
   ],
   "source": [
    "# `dayofmonth`: the number of the day in the month.\n",
    "# `hour`: the hour of the day.\n",
    "# `dayofyear`: the number of the day in the year.\n",
    "# `month`: the number of the month (1-index).\n",
    "# `year`: the number of the year.\n",
    "# `weekofyear`: the number of the week in the year.\n",
    "df.select(dayofyear(f.col('Date'))).where(dayofmonth(f.col('Date')) == 1).show()"
   ]
  },
  {
   "cell_type": "code",
   "execution_count": 8,
   "metadata": {},
   "outputs": [],
   "source": [
    "# Let's find the average closing price per year.\n",
    "# df.select(year(f.col('Date'))).show()\n",
    "new_df = df.withColumn(\"Year\", year(f.col('Date')))"
   ]
  },
  {
   "cell_type": "code",
   "execution_count": 9,
   "metadata": {},
   "outputs": [],
   "source": [
    "# Let's get only these two columns to prevent calculating mean\n",
    "# of a lot of other columns unnecessarily.\n",
    "new_df = new_df.select(\"Year\", \"Close\")"
   ]
  },
  {
   "cell_type": "code",
   "execution_count": 10,
   "metadata": {},
   "outputs": [],
   "source": [
    "# Calculate the mean only of the Close columnt otherwise just calling\n",
    "# .mean() will do it in all numeric columns including year.\n",
    "result = new_df.groupBy(\"Year\").agg({\"Close\" : \"avg\"})"
   ]
  },
  {
   "cell_type": "code",
   "execution_count": 11,
   "metadata": {},
   "outputs": [],
   "source": [
    "# Rename the column with the average of closing price more readable.\n",
    "# result = result.withColumnRenamed(\"avg(Close)\", \"AVG Closing Price\")\n",
    "# Fix to two significant digits, the alias can be done there instead\n",
    "# of calling the column renamed function, whatever you like.\n",
    "result_rounded = result.select(['Year', \n",
    "               format_number('avg(Close)', 2)\n",
    "               .alias(\"AVG Closing Price\")])"
   ]
  },
  {
   "cell_type": "code",
   "execution_count": 12,
   "metadata": {},
   "outputs": [
    {
     "name": "stdout",
     "output_type": "stream",
     "text": [
      "+----+-----------------+\n",
      "|Year|AVG Closing Price|\n",
      "+----+-----------------+\n",
      "|2015|           120.04|\n",
      "|2013|           472.63|\n",
      "|2014|           295.40|\n",
      "|2012|           576.05|\n",
      "|2016|           104.60|\n",
      "|2010|           259.84|\n",
      "|2011|           364.00|\n",
      "+----+-----------------+\n",
      "\n"
     ]
    }
   ],
   "source": [
    "# Check the average closing price of the stock per year!\n",
    "result_rounded.show()"
   ]
  },
  {
   "cell_type": "code",
   "execution_count": 13,
   "metadata": {},
   "outputs": [
    {
     "name": "stdout",
     "output_type": "stream",
     "text": [
      "+------------------------+\n",
      "|date_format(Date, MM-dd)|\n",
      "+------------------------+\n",
      "|                   01-04|\n",
      "|                   01-05|\n",
      "|                   01-06|\n",
      "|                   01-07|\n",
      "|                   01-08|\n",
      "|                   01-11|\n",
      "|                   01-12|\n",
      "|                   01-13|\n",
      "|                   01-14|\n",
      "|                   01-15|\n",
      "|                   01-19|\n",
      "|                   01-20|\n",
      "|                   01-21|\n",
      "|                   01-22|\n",
      "|                   01-25|\n",
      "|                   01-26|\n",
      "|                   01-27|\n",
      "|                   01-28|\n",
      "|                   01-29|\n",
      "|                   02-01|\n",
      "+------------------------+\n",
      "only showing top 20 rows\n",
      "\n"
     ]
    }
   ],
   "source": [
    "# Also can take a datetime element and convert it, let's say,\n",
    "# extract only month and day from a whole datetime object.\n",
    "df.select(date_format(f.col(\"Date\"), 'MM-dd')).show()"
   ]
  }
 ],
 "metadata": {
  "kernelspec": {
   "display_name": "Python 3",
   "language": "python",
   "name": "python3"
  },
  "language_info": {
   "codemirror_mode": {
    "name": "ipython",
    "version": 3
   },
   "file_extension": ".py",
   "mimetype": "text/x-python",
   "name": "python",
   "nbconvert_exporter": "python",
   "pygments_lexer": "ipython3",
   "version": "3.6.5"
  }
 },
 "nbformat": 4,
 "nbformat_minor": 2
}
